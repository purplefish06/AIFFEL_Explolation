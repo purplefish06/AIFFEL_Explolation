{
  "cells": [
    {
      "cell_type": "markdown",
      "id": "d9e3e5a6",
      "metadata": {
        "id": "d9e3e5a6"
      },
      "source": [
        "[E-05]RockScissorPaper_Classifier\n",
        "* 목적 : 딥러닝 프레임워크를 활용하여 데이터를 학습하고 분류기를 만들어보자.\n",
        "* 활용데이터 : 가위바위보 이미지 데이터\n",
        "* 과정 : 각 이미지 데이터를 전처리하고, 모델을 적용하여 학습을 진행한다. 목표정확도(60%)에 도달하기 위한 실험을 해본다. \n",
        "* 목표 : 오버피팅을 극복하기 위한 시도를 해보기, test accuracy 60%이상을 달성"
      ]
    },
    {
      "cell_type": "markdown",
      "id": "355d8c08",
      "metadata": {
        "id": "355d8c08"
      },
      "source": [
        "1. 이미지 분류기 모델이 성공적으로 만들어졌는가?\n",
        "    - 학습과정이 정상적으로 수행되었으며, 학습 결과에 대한 그래프를 시각화(ex. train acc / train loss / val acc / val loss 등) 해 보았음\n",
        "2. 오버피팅을 극복하기 위한 적절한 시도가 있었는가?\n",
        "    - 오버피팅 극복을 위하여 데이터셋의 다양성, 정규화 등을 2가지 이상 시도해보았음\n",
        "3. 분류모델의 test accuracy가 기준 이상 높게 나왔는가?\n",
        "    - 60% 이상 도달하였음\n",
        "---"
      ]
    },
    {
      "cell_type": "markdown",
      "id": "671b8ec4",
      "metadata": {
        "id": "671b8ec4"
      },
      "source": [
        "# 0. 활용 모듈 import"
      ]
    },
    {
      "cell_type": "code",
      "execution_count": null,
      "id": "53b15984",
      "metadata": {
        "id": "53b15984"
      },
      "outputs": [],
      "source": [
        "from PIL import Image\n",
        "import os, glob\n",
        "import numpy as np\n",
        "import matplotlib.pyplot as plt\n",
        "import tensorflow as tf\n",
        "from tensorflow import keras\n",
        "import numpy as np"
      ]
    },
    {
      "cell_type": "code",
      "execution_count": null,
      "id": "90daa23d",
      "metadata": {
        "id": "90daa23d"
      },
      "outputs": [],
      "source": [
        "image_dir_path = os.getenv(\"HOME\") + \"/aiffel/rock_scissor_paper/data_2_42/\"\n",
        "\n",
        "image_size= 28\n",
        "channel_1 = 16\n",
        "channel_2 = 32\n",
        "dense = 50\n",
        "epoch = 100"
      ]
    },
    {
      "cell_type": "markdown",
      "id": "63c68dfc",
      "metadata": {
        "id": "63c68dfc"
      },
      "source": [
        "# 1. 데이터 준비"
      ]
    },
    {
      "cell_type": "markdown",
      "id": "76c0cb95",
      "metadata": {
        "id": "76c0cb95"
      },
      "source": [
        "### 1-1. 데이터 Resize"
      ]
    },
    {
      "cell_type": "code",
      "execution_count": null,
      "id": "fa214645",
      "metadata": {
        "id": "fa214645"
      },
      "outputs": [],
      "source": [
        "def image_resize(image_dir_path, image_size):\n",
        "    images=glob.glob(image_dir_path + \"*/*.jpg\")  \n",
        "\n",
        "    target_size=(image_size, image_size)\n",
        "    for img in images:\n",
        "        old_img=Image.open(img)\n",
        "        new_img=old_img.resize(target_size,Image.ANTIALIAS)\n",
        "        new_img.save(img, \"JPEG\")\n",
        "    \n",
        "    print(len(images), \" image resize complete!\")\n",
        "    return len(images)"
      ]
    },
    {
      "cell_type": "markdown",
      "id": "c4283f86",
      "metadata": {
        "id": "c4283f86"
      },
      "source": [
        "### 1-2. 데이터 Load"
      ]
    },
    {
      "cell_type": "code",
      "execution_count": null,
      "id": "329426fa",
      "metadata": {
        "id": "329426fa"
      },
      "outputs": [],
      "source": [
        "def load_data(img_path, img_size, number_of_data):\n",
        "\n",
        "    color=3\n",
        "    #이미지 데이터와 라벨(가위 : 0, 바위 : 1, 보 : 2) 데이터를 담을 행렬(matrix) 영역을 생성합니다.\n",
        "    imgs=np.zeros(number_of_data*img_size*img_size*color,dtype=np.int32).reshape(number_of_data,img_size,img_size,color)\n",
        "    labels=np.zeros(number_of_data,dtype=np.int32)\n",
        "\n",
        "    idx=0\n",
        "    for file in glob.iglob(img_path+'/scissor/*.jpg'):\n",
        "        img = np.array(Image.open(file),dtype=np.int32)\n",
        "        imgs[idx,:,:,:]=img    # 데이터 영역에 이미지 행렬을 복사\n",
        "        labels[idx]=0   # 가위 : 0\n",
        "        idx=idx+1\n",
        "\n",
        "    for file in glob.iglob(img_path+'/rock/*.jpg'):\n",
        "        img = np.array(Image.open(file),dtype=np.int32)\n",
        "        imgs[idx,:,:,:]=img    # 데이터 영역에 이미지 행렬을 복사\n",
        "        labels[idx]=1   # 바위 : 1\n",
        "        idx=idx+1       \n",
        "    \n",
        "    for file in glob.iglob(img_path+'/paper/*.jpg'):\n",
        "        img = np.array(Image.open(file),dtype=np.int32)\n",
        "        imgs[idx,:,:,:]=img    # 데이터 영역에 이미지 행렬을 복사\n",
        "        labels[idx]=2   # 보 : 2\n",
        "        idx=idx+1\n",
        "        \n",
        "    print(\"이미지 개수는 %d개 입니다.\" % idx)\n",
        "    return imgs, labels"
      ]
    },
    {
      "cell_type": "code",
      "execution_count": null,
      "id": "c6892914",
      "metadata": {
        "id": "c6892914",
        "outputId": "f3b6c9df-16b6-4b9f-e115-23f926dd5326"
      },
      "outputs": [
        {
          "name": "stdout",
          "output_type": "stream",
          "text": [
            "300  image resize complete!\n",
            "이미지 개수는 300개 입니다.\n",
            "x_train shape: (300, 28, 28, 3)\n",
            "y_train shape: (300,)\n",
            "\n",
            "라벨:  0\n"
          ]
        },
        {
          "data": {
            "image/png": "[encoded data removed]",
            "text/plain": [
              "<Figure size 432x288 with 1 Axes>"
            ]
          },
          "metadata": {
            "needs_background": "light"
          },
          "output_type": "display_data"
        }
      ],
      "source": [
        "# train data 불러오기\n",
        "data_size = image_resize(image_dir_path, image_size)\n",
        "\n",
        "(x_train, y_train)=load_data(image_dir_path, image_size, data_size)\n",
        "\n",
        "x_train_norm = x_train/255.0  \n",
        "\n",
        "print(\"x_train shape: {}\".format(x_train.shape))\n",
        "print(\"y_train shape: {}\".format(y_train.shape))\n",
        "\n",
        "plt.imshow(x_train[0])\n",
        "print('\\n라벨: ', y_train[0])"
      ]
    },
    {
      "cell_type": "markdown",
      "id": "73eacd6f",
      "metadata": {
        "id": "73eacd6f"
      },
      "source": [
        "# 2. 딥러닝 네트워크 설계하기 "
      ]
    },
    {
      "cell_type": "code",
      "execution_count": null,
      "id": "80f93c01",
      "metadata": {
        "id": "80f93c01",
        "outputId": "4f3cd99c-f22e-416f-b338-be2662c7d163"
      },
      "outputs": [
        {
          "name": "stdout",
          "output_type": "stream",
          "text": [
            "Model: \"sequential_2\"\n",
            "_________________________________________________________________\n",
            "Layer (type)                 Output Shape              Param #   \n",
            "=================================================================\n",
            "conv2d_4 (Conv2D)            (None, 26, 26, 16)        448       \n",
            "_________________________________________________________________\n",
            "max_pooling2d_4 (MaxPooling2 (None, 13, 13, 16)        0         \n",
            "_________________________________________________________________\n",
            "conv2d_5 (Conv2D)            (None, 9, 9, 32)          12832     \n",
            "_________________________________________________________________\n",
            "max_pooling2d_5 (MaxPooling2 (None, 4, 4, 32)          0         \n",
            "_________________________________________________________________\n",
            "flatten_2 (Flatten)          (None, 512)               0         \n",
            "_________________________________________________________________\n",
            "dense_4 (Dense)              (None, 50)                25650     \n",
            "_________________________________________________________________\n",
            "dropout_2 (Dropout)          (None, 50)                0         \n",
            "_________________________________________________________________\n",
            "dense_5 (Dense)              (None, 3)                 153       \n",
            "=================================================================\n",
            "Total params: 39,083\n",
            "Trainable params: 39,083\n",
            "Non-trainable params: 0\n",
            "_________________________________________________________________\n"
          ]
        }
      ],
      "source": [
        "# model 생성 \n",
        "model=keras.models.Sequential()        \n",
        "model.add(keras.layers.Conv2D(channel_1, (3,3), activation='relu', input_shape=(image_size, image_size,3)))\n",
        "model.add(keras.layers.MaxPool2D(2,2))\n",
        "model.add(keras.layers.Conv2D(channel_2, (5,5), activation='relu')) \n",
        "model.add(keras.layers.MaxPooling2D((2,2)))\n",
        "model.add(keras.layers.Flatten())\n",
        "model.add(keras.layers.Dense(dense, activation='relu'))   \n",
        "model.add(keras.layers.Dropout(0.5))\n",
        "model.add(keras.layers.Dense(3, activation='softmax')) \n",
        "\n",
        "model.summary()"
      ]
    },
    {
      "cell_type": "markdown",
      "id": "b5b9471e",
      "metadata": {
        "id": "b5b9471e"
      },
      "source": [
        "# 3. 딥러닝 네트위크 학습시키기 "
      ]
    },
    {
      "cell_type": "code",
      "execution_count": null,
      "id": "5409eed2",
      "metadata": {
        "scrolled": false,
        "id": "5409eed2",
        "outputId": "83e6fa9e-3641-481c-f038-67e7ad4b874e"
      },
      "outputs": [
        {
          "name": "stdout",
          "output_type": "stream",
          "text": [
            "Epoch 1/100\n",
            "10/10 [==============================] - 0s 3ms/step - loss: 1.1043 - accuracy: 0.3567\n",
            "Epoch 2/100\n",
            "10/10 [==============================] - 0s 3ms/step - loss: 1.0957 - accuracy: 0.3467\n",
            "Epoch 3/100\n",
            "10/10 [==============================] - 0s 3ms/step - loss: 1.0777 - accuracy: 0.4433\n",
            "Epoch 4/100\n",
            "10/10 [==============================] - 0s 3ms/step - loss: 1.0626 - accuracy: 0.4800\n",
            "Epoch 5/100\n",
            "10/10 [==============================] - 0s 3ms/step - loss: 1.0507 - accuracy: 0.5033\n",
            "Epoch 6/100\n",
            "10/10 [==============================] - 0s 3ms/step - loss: 1.0199 - accuracy: 0.5300\n",
            "Epoch 7/100\n",
            "10/10 [==============================] - 0s 3ms/step - loss: 0.9561 - accuracy: 0.5967\n",
            "Epoch 8/100\n",
            "10/10 [==============================] - 0s 3ms/step - loss: 0.8942 - accuracy: 0.6433\n",
            "Epoch 9/100\n",
            "10/10 [==============================] - 0s 3ms/step - loss: 0.8194 - accuracy: 0.7133\n",
            "Epoch 10/100\n",
            "10/10 [==============================] - 0s 3ms/step - loss: 0.7421 - accuracy: 0.7500\n",
            "Epoch 11/100\n",
            "10/10 [==============================] - 0s 3ms/step - loss: 0.7069 - accuracy: 0.7567\n",
            "Epoch 12/100\n",
            "10/10 [==============================] - 0s 3ms/step - loss: 0.6054 - accuracy: 0.8000\n",
            "Epoch 13/100\n",
            "10/10 [==============================] - 0s 3ms/step - loss: 0.6102 - accuracy: 0.7800\n",
            "Epoch 14/100\n",
            "10/10 [==============================] - 0s 3ms/step - loss: 0.5573 - accuracy: 0.8100\n",
            "Epoch 15/100\n",
            "10/10 [==============================] - 0s 3ms/step - loss: 0.5072 - accuracy: 0.8267\n",
            "Epoch 16/100\n",
            "10/10 [==============================] - 0s 3ms/step - loss: 0.4301 - accuracy: 0.9067\n",
            "Epoch 17/100\n",
            "10/10 [==============================] - 0s 3ms/step - loss: 0.4041 - accuracy: 0.8900\n",
            "Epoch 18/100\n",
            "10/10 [==============================] - 0s 3ms/step - loss: 0.3370 - accuracy: 0.9033\n",
            "Epoch 19/100\n",
            "10/10 [==============================] - 0s 3ms/step - loss: 0.3595 - accuracy: 0.9000\n",
            "Epoch 20/100\n",
            "10/10 [==============================] - 0s 3ms/step - loss: 0.2854 - accuracy: 0.9300\n",
            "Epoch 21/100\n",
            "10/10 [==============================] - 0s 3ms/step - loss: 0.2804 - accuracy: 0.9100\n",
            "Epoch 22/100\n",
            "10/10 [==============================] - 0s 3ms/step - loss: 0.2735 - accuracy: 0.9067\n",
            "Epoch 23/100\n",
            "10/10 [==============================] - 0s 3ms/step - loss: 0.2403 - accuracy: 0.9267\n",
            "Epoch 24/100\n",
            "10/10 [==============================] - 0s 3ms/step - loss: 0.2041 - accuracy: 0.9400\n",
            "Epoch 25/100\n",
            "10/10 [==============================] - 0s 3ms/step - loss: 0.2044 - accuracy: 0.9400\n",
            "Epoch 26/100\n",
            "10/10 [==============================] - 0s 3ms/step - loss: 0.1666 - accuracy: 0.9500\n",
            "Epoch 27/100\n",
            "10/10 [==============================] - 0s 3ms/step - loss: 0.1435 - accuracy: 0.9733\n",
            "Epoch 28/100\n",
            "10/10 [==============================] - 0s 3ms/step - loss: 0.1256 - accuracy: 0.9733\n",
            "Epoch 29/100\n",
            "10/10 [==============================] - 0s 3ms/step - loss: 0.1076 - accuracy: 0.9833\n",
            "Epoch 30/100\n",
            "10/10 [==============================] - 0s 3ms/step - loss: 0.1253 - accuracy: 0.9767\n",
            "Epoch 31/100\n",
            "10/10 [==============================] - 0s 3ms/step - loss: 0.0907 - accuracy: 0.9867\n",
            "Epoch 32/100\n",
            "10/10 [==============================] - 0s 3ms/step - loss: 0.0982 - accuracy: 0.9767\n",
            "Epoch 33/100\n",
            "10/10 [==============================] - 0s 3ms/step - loss: 0.1021 - accuracy: 0.9767\n",
            "Epoch 34/100\n",
            "10/10 [==============================] - 0s 3ms/step - loss: 0.0933 - accuracy: 0.9900\n",
            "Epoch 35/100\n",
            "10/10 [==============================] - 0s 3ms/step - loss: 0.0859 - accuracy: 0.9833\n",
            "Epoch 36/100\n",
            "10/10 [==============================] - 0s 3ms/step - loss: 0.0615 - accuracy: 0.9933\n",
            "Epoch 37/100\n",
            "10/10 [==============================] - 0s 3ms/step - loss: 0.0689 - accuracy: 0.9800\n",
            "Epoch 38/100\n",
            "10/10 [==============================] - 0s 3ms/step - loss: 0.0589 - accuracy: 0.9933\n",
            "Epoch 39/100\n",
            "10/10 [==============================] - 0s 3ms/step - loss: 0.0589 - accuracy: 0.9933\n",
            "Epoch 40/100\n",
            "10/10 [==============================] - 0s 3ms/step - loss: 0.0588 - accuracy: 0.9900\n",
            "Epoch 41/100\n",
            "10/10 [==============================] - 0s 3ms/step - loss: 0.0503 - accuracy: 0.9933\n",
            "Epoch 42/100\n",
            "10/10 [==============================] - 0s 3ms/step - loss: 0.0531 - accuracy: 0.9900\n",
            "Epoch 43/100\n",
            "10/10 [==============================] - 0s 3ms/step - loss: 0.0401 - accuracy: 0.9967\n",
            "Epoch 44/100\n",
            "10/10 [==============================] - 0s 3ms/step - loss: 0.0349 - accuracy: 0.9967\n",
            "Epoch 45/100\n",
            "10/10 [==============================] - 0s 3ms/step - loss: 0.0466 - accuracy: 0.9867\n",
            "Epoch 46/100\n",
            "10/10 [==============================] - 0s 3ms/step - loss: 0.0414 - accuracy: 0.9933\n",
            "Epoch 47/100\n",
            "10/10 [==============================] - 0s 4ms/step - loss: 0.0465 - accuracy: 0.9900\n",
            "Epoch 48/100\n",
            "10/10 [==============================] - 0s 3ms/step - loss: 0.0391 - accuracy: 1.0000\n",
            "Epoch 49/100\n",
            "10/10 [==============================] - 0s 3ms/step - loss: 0.0309 - accuracy: 0.9967\n",
            "Epoch 50/100\n",
            "10/10 [==============================] - 0s 3ms/step - loss: 0.0444 - accuracy: 0.9867\n",
            "Epoch 51/100\n",
            "10/10 [==============================] - 0s 3ms/step - loss: 0.0257 - accuracy: 1.0000\n",
            "Epoch 52/100\n",
            "10/10 [==============================] - 0s 3ms/step - loss: 0.0228 - accuracy: 1.0000\n",
            "Epoch 53/100\n",
            "10/10 [==============================] - 0s 4ms/step - loss: 0.0206 - accuracy: 1.0000\n",
            "Epoch 54/100\n",
            "10/10 [==============================] - 0s 3ms/step - loss: 0.0337 - accuracy: 0.9900\n",
            "Epoch 55/100\n",
            "10/10 [==============================] - 0s 3ms/step - loss: 0.0260 - accuracy: 0.9967\n",
            "Epoch 56/100\n",
            "10/10 [==============================] - 0s 3ms/step - loss: 0.0272 - accuracy: 0.9967\n",
            "Epoch 57/100\n",
            "10/10 [==============================] - 0s 3ms/step - loss: 0.0283 - accuracy: 0.9900\n",
            "Epoch 58/100\n",
            "10/10 [==============================] - 0s 3ms/step - loss: 0.0345 - accuracy: 0.9867\n",
            "Epoch 59/100\n",
            "10/10 [==============================] - 0s 3ms/step - loss: 0.0294 - accuracy: 0.9967\n",
            "Epoch 60/100\n",
            "10/10 [==============================] - 0s 3ms/step - loss: 0.0346 - accuracy: 0.9833\n",
            "Epoch 61/100\n",
            "10/10 [==============================] - 0s 3ms/step - loss: 0.0269 - accuracy: 0.9933\n",
            "Epoch 62/100\n",
            "10/10 [==============================] - 0s 3ms/step - loss: 0.0409 - accuracy: 0.9900\n",
            "Epoch 63/100\n",
            "10/10 [==============================] - 0s 3ms/step - loss: 0.0261 - accuracy: 0.9933\n",
            "Epoch 64/100\n",
            "10/10 [==============================] - 0s 3ms/step - loss: 0.0142 - accuracy: 1.0000\n",
            "Epoch 65/100\n",
            "10/10 [==============================] - 0s 3ms/step - loss: 0.0230 - accuracy: 0.9933\n",
            "Epoch 66/100\n",
            "10/10 [==============================] - 0s 3ms/step - loss: 0.0272 - accuracy: 0.9933\n",
            "Epoch 67/100\n",
            "10/10 [==============================] - 0s 3ms/step - loss: 0.0267 - accuracy: 0.9933\n",
            "Epoch 68/100\n",
            "10/10 [==============================] - 0s 3ms/step - loss: 0.0332 - accuracy: 0.9833\n",
            "Epoch 69/100\n",
            "10/10 [==============================] - 0s 3ms/step - loss: 0.0229 - accuracy: 0.9967\n",
            "Epoch 70/100\n",
            "10/10 [==============================] - 0s 3ms/step - loss: 0.0379 - accuracy: 0.9867\n",
            "Epoch 71/100\n",
            "10/10 [==============================] - 0s 3ms/step - loss: 0.0151 - accuracy: 0.9967\n",
            "Epoch 72/100\n",
            "10/10 [==============================] - 0s 3ms/step - loss: 0.0225 - accuracy: 0.9900\n",
            "Epoch 73/100\n",
            "10/10 [==============================] - 0s 3ms/step - loss: 0.0178 - accuracy: 0.9967\n",
            "Epoch 74/100\n",
            "10/10 [==============================] - 0s 3ms/step - loss: 0.0172 - accuracy: 0.9967\n",
            "Epoch 75/100\n",
            "10/10 [==============================] - 0s 3ms/step - loss: 0.0129 - accuracy: 1.0000\n",
            "Epoch 76/100\n",
            "10/10 [==============================] - 0s 3ms/step - loss: 0.0195 - accuracy: 0.9933\n",
            "Epoch 77/100\n",
            "10/10 [==============================] - 0s 3ms/step - loss: 0.0130 - accuracy: 1.0000\n",
            "Epoch 78/100\n",
            "10/10 [==============================] - 0s 3ms/step - loss: 0.0173 - accuracy: 0.9967\n",
            "Epoch 79/100\n",
            "10/10 [==============================] - 0s 3ms/step - loss: 0.0277 - accuracy: 0.9867\n",
            "Epoch 80/100\n",
            "10/10 [==============================] - 0s 3ms/step - loss: 0.0142 - accuracy: 1.0000\n",
            "Epoch 81/100\n",
            "10/10 [==============================] - 0s 3ms/step - loss: 0.0296 - accuracy: 0.9900\n",
            "Epoch 82/100\n",
            "10/10 [==============================] - 0s 3ms/step - loss: 0.0112 - accuracy: 1.0000\n",
            "Epoch 83/100\n",
            "10/10 [==============================] - 0s 3ms/step - loss: 0.0092 - accuracy: 1.0000\n",
            "Epoch 84/100\n",
            "10/10 [==============================] - 0s 3ms/step - loss: 0.0232 - accuracy: 0.9900\n",
            "Epoch 85/100\n",
            "10/10 [==============================] - 0s 3ms/step - loss: 0.0103 - accuracy: 0.9967\n",
            "Epoch 86/100\n",
            "10/10 [==============================] - 0s 3ms/step - loss: 0.0168 - accuracy: 0.9967\n",
            "Epoch 87/100\n",
            "10/10 [==============================] - 0s 3ms/step - loss: 0.0068 - accuracy: 1.0000\n",
            "Epoch 88/100\n",
            "10/10 [==============================] - 0s 3ms/step - loss: 0.0144 - accuracy: 0.9967\n",
            "Epoch 89/100\n",
            "10/10 [==============================] - 0s 3ms/step - loss: 0.0093 - accuracy: 1.0000\n",
            "Epoch 90/100\n",
            "10/10 [==============================] - 0s 3ms/step - loss: 0.0090 - accuracy: 0.9967\n",
            "Epoch 91/100\n",
            "10/10 [==============================] - 0s 3ms/step - loss: 0.0193 - accuracy: 0.9933\n",
            "Epoch 92/100\n",
            "10/10 [==============================] - 0s 3ms/step - loss: 0.0177 - accuracy: 0.9967\n",
            "Epoch 93/100\n",
            "10/10 [==============================] - 0s 3ms/step - loss: 0.0119 - accuracy: 1.0000\n",
            "Epoch 94/100\n",
            "10/10 [==============================] - 0s 3ms/step - loss: 0.0133 - accuracy: 1.0000\n",
            "Epoch 95/100\n",
            "10/10 [==============================] - 0s 3ms/step - loss: 0.0155 - accuracy: 0.9933\n",
            "Epoch 96/100\n",
            "10/10 [==============================] - 0s 3ms/step - loss: 0.0132 - accuracy: 1.0000\n",
            "Epoch 97/100\n",
            "10/10 [==============================] - 0s 3ms/step - loss: 0.0075 - accuracy: 0.9967\n",
            "Epoch 98/100\n",
            "10/10 [==============================] - 0s 3ms/step - loss: 0.0123 - accuracy: 0.9967\n",
            "Epoch 99/100\n",
            "10/10 [==============================] - 0s 3ms/step - loss: 0.0046 - accuracy: 1.0000\n",
            "Epoch 100/100\n",
            "10/10 [==============================] - 0s 3ms/step - loss: 0.0110 - accuracy: 0.9967\n"
          ]
        }
      ],
      "source": [
        "model.compile(optimizer='adam',\n",
        "              loss='sparse_categorical_crossentropy',\n",
        "              metrics=['accuracy'])\n",
        "\n",
        "x_train_norm=x_train_norm.reshape( -1, image_size, image_size, 3) \n",
        "\n",
        "history = model.fit(x_train_norm, y_train, epochs = epoch)"
      ]
    },
    {
      "cell_type": "markdown",
      "id": "75f75072",
      "metadata": {
        "id": "75f75072"
      },
      "source": [
        "# 4. 얼마나 잘 만들었는지 확인하기(테스트)"
      ]
    },
    {
      "cell_type": "markdown",
      "id": "3778ee7a",
      "metadata": {
        "id": "3778ee7a"
      },
      "source": [
        "### 4-1. test 데이터 Load"
      ]
    },
    {
      "cell_type": "code",
      "execution_count": null,
      "id": "7af6a142",
      "metadata": {
        "id": "7af6a142",
        "outputId": "73f041e2-ce2e-4262-a058-0a3541fe637b"
      },
      "outputs": [
        {
          "name": "stdout",
          "output_type": "stream",
          "text": [
            "300  image resize complete!\n",
            "이미지 개수는 300개 입니다.\n",
            "x_test shape: (300, 28, 28, 3)\n",
            "y_test shape: (300,)\n",
            "\n",
            "라벨:  0\n"
          ]
        },
        {
          "data": {
            "image/png": "[encoded data removed]",
            "text/plain": [
              "<Figure size 432x288 with 1 Axes>"
            ]
          },
          "metadata": {
            "needs_background": "light"
          },
          "output_type": "display_data"
        }
      ],
      "source": [
        "# 앞에서 생성한 load_data 함수로 test data 불러오기\n",
        "image_dir_path = os.getenv(\"HOME\") + \"/aiffel/rock_scissor_paper/test/\"\n",
        "\n",
        "data_size = image_resize(image_dir_path, image_size)\n",
        "\n",
        "(x_test, y_test)=load_data(image_dir_path, image_size, data_size)\n",
        "\n",
        "x_test_norm = x_test/255.0   \n",
        "\n",
        "print(\"x_test shape: {}\".format(x_test.shape))\n",
        "print(\"y_test shape: {}\".format(y_test.shape))\n",
        "\n",
        "plt.imshow(x_test[0])\n",
        "print('\\n라벨: ', y_test[0])"
      ]
    },
    {
      "cell_type": "markdown",
      "id": "7e8987ad",
      "metadata": {
        "id": "7e8987ad"
      },
      "source": [
        "### 4-2. 분류기 성능 테스트"
      ]
    },
    {
      "cell_type": "code",
      "execution_count": null,
      "id": "c5ee1467",
      "metadata": {
        "id": "c5ee1467"
      },
      "outputs": [],
      "source": [
        "x_test_norm = x_test_norm.reshape( -1, image_size, image_size, 3) "
      ]
    },
    {
      "cell_type": "code",
      "execution_count": null,
      "metadata": {
        "id": "CJm_xoiamVTA",
        "outputId": "dd66c885-7a25-4950-f56e-7fc8bcf6bdc2"
      },
      "outputs": [
        {
          "name": "stdout",
          "output_type": "stream",
          "text": [
            "10/10 - 2s - loss: 1.1023 - accuracy: 0.7767\n",
            "test_loss: 1.102266788482666 \n",
            "test_accuracy: 0.7766666412353516\n"
          ]
        }
      ],
      "source": [
        "test_loss, test_accuracy = model.evaluate(x_test_norm,y_test, verbose=2)\n",
        "print(\"test_loss: {} \".format(test_loss))\n",
        "print(\"test_accuracy: {}\".format(test_accuracy))"
      ],
      "id": "CJm_xoiamVTA"
    },
    {
      "cell_type": "markdown",
      "id": "1b45b6e4",
      "metadata": {
        "id": "1b45b6e4"
      },
      "source": [
        "# 5. 학습결과 시각화"
      ]
    },
    {
      "cell_type": "code",
      "execution_count": null,
      "id": "66913ba5",
      "metadata": {
        "id": "66913ba5",
        "outputId": "5cea9142-d776-4657-ef89-8a0b9716679e"
      },
      "outputs": [
        {
          "data": {
            "image/png": "[encoded data removed]",
            "text/plain": [
              "<Figure size 432x288 with 1 Axes>"
            ]
          },
          "metadata": {
            "needs_background": "light"
          },
          "output_type": "display_data"
        }
      ],
      "source": [
        "plt.plot(history.history['accuracy'], label='Train_Accuracy')\n",
        "plt.title('Model training visualization')\n",
        "plt.xlabel('Epoch')\n",
        "\n",
        "plt.plot(history.history['loss'], label='Train_Loss')\n",
        "plt.legend()\n",
        "plt.show()"
      ]
    },
    {
      "cell_type": "markdown",
      "id": "e3bf2dff",
      "metadata": {
        "id": "e3bf2dff"
      },
      "source": [
        "# 6. 회고"
      ]
    },
    {
      "cell_type": "markdown",
      "id": "1ce05eca",
      "metadata": {
        "id": "1ce05eca"
      },
      "source": [
        "    * 시도해본 것들 \n",
        "- 데이터 셋 종류를 이미지 밝기와 손과의 거리 로 총 4가지로 나누어 진행\n",
        "- 데이터 셋이 다양하거나 아주 많지는 않으므로, validation set 제거\n",
        "- 데이터 정규화 : 오버피팅 방지\n",
        "- 마지막 dense 직전 dropout : 오버피팅 방지\n",
        "\n",
        "---\n",
        "\n",
        "    * 실험 리포트\n",
        "- 데이터 이미지의 밝기는 성능에 크게 차이가 없다 (초기 정확도 34~36 사이) \n",
        "- 데이터 자체가 성능에 영향을 주었던 것은 카메라와 손과의 거리였다. -> 이미지 resize 에서 예제와 마찬가지로 28 size를 사용하였는데, 각 픽셀에 손 영역이 차지하는 것이 많은지 여부가 성능에 영향을 준 것 같다. \n",
        "- 데이터 정규화가 성능에 영향을 크게 주었다. \n",
        "- test 결과, 모델의 layer의 구성과, kernel 사이즈 구성에 가장 영향을 많이 받았고, 모델의 복잡도가 크지 않으므로 오히려 conv 사이즈를 늘리게 되면 성능이 저하되었다. \n",
        "- 학습 추이를 시각화 해보았을 때, 약 50epoch 까지 학습이 유의미 한 것 같고, 그 이후는 train_loss 가 떨어지긴 했지만, accuracy 상승이 미미 했고, test 적용시에도 성능에 크게 영향을 주지 못했다. 이로 미루어 보아, 50~70 epoch이후는 overfitting 위험이 있는 모델이다. \n",
        "---\n",
        "\n",
        "    * 느낀점 \n",
        "- 이번 실험을 통해 간단한 CNN 모델을 통한 이미지 분류기를 만들어 보았는데, 처음에 60% 정도는 쉽게 나오겠지 ? 라는 생각이었지만, 오히려 간단한 문제의 정확도를 올릴때 더 많은 정교함이 필요하다고 생각했다. \n",
        "- 모델의 구성도 중요하지만, 데이터가 무엇이냐에 따라 영향을 많이 받았다. 하지만 데이터가 제한된 상황에서 모델구성과 파라미터 조정, 기타 테크닉을 통해 성능  향상을 위한 시도를 했던 의미있는 실험이었다. \n"
      ]
    }
  ],
  "metadata": {
    "kernelspec": {
      "display_name": "Python 3 (ipykernel)",
      "language": "python",
      "name": "python3"
    },
    "language_info": {
      "codemirror_mode": {
        "name": "ipython",
        "version": 3
      },
      "file_extension": ".py",
      "mimetype": "text/x-python",
      "name": "python",
      "nbconvert_exporter": "python",
      "pygments_lexer": "ipython3",
      "version": "3.9.7"
    },
    "colab": {
      "provenance": []
    }
  },
  "nbformat": 4,
  "nbformat_minor": 5
}