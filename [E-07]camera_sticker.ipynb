{
 "cells": [
  {
   "cell_type": "markdown",
   "id": "2cc32739",
   "metadata": {},
   "source": [
    "[E-07]camera_sticker\n",
    "* 목적 : 이미지 내 얼굴을 검출하여 key point 를 생성하고, 좌표값을 이용하여 이미지를 위에 올려보기.\n",
    "* 과정 : 대상 이미지에서 dlib 얼굴 검출기를 활용하여 landmark 좌표를 생성하고, 고양이 스티커를 얼굴에 올린다.\n",
    "* 목표 : 얼굴의 landmark 를 정확히 검출하고 스티커 합성을 성공할 것 / 다양한 조건의 원본이미지에도 robust 할 것. 그렇지 못하다면 이유를 살펴볼 것 \n",
    "\n",
    "---"
   ]
  },
  {
   "cell_type": "markdown",
   "id": "efb4db3d",
   "metadata": {},
   "source": [
    "1. 자기만의 카메라앱 기능 구현을 완수하였다.\n",
    "    - 얼굴 영역과 랜드마크를 정확하게 검출하고, 스티커 사진을 합성시키는 데 성공하였다.\n",
    "2. 스티커 이미지를 정확한 원본 위치에 반영하였다.\n",
    "    - 정확한 좌표계산을 통해 고양이 수염의 위치가 원본 얼굴에 잘 어울리게 출력되었다.\n",
    "3. 카메라 스티커앱을 다양한 원본이미지에 적용했을 때의 문제점을 체계적으로 분석하였다.\n",
    "    - 얼굴각도, 이미지 밝기, 촬영거리 등 다양한 변수에 따른 영향도를 보고서에 체계적으로 분석하였다.\n",
    "---"
   ]
  },
  {
   "cell_type": "markdown",
   "id": "d3daba06",
   "metadata": {},
   "source": [
    "# 0. 공통 활용 모듈 import"
   ]
  },
  {
   "cell_type": "code",
   "execution_count": 2,
   "id": "eb4482d4",
   "metadata": {},
   "outputs": [
    {
     "name": "stdout",
     "output_type": "stream",
     "text": [
      "4.5.3\n",
      "19.22.1\n"
     ]
    }
   ],
   "source": [
    "import cv2\n",
    "import dlib\n",
    "import matplotlib.pyplot as plt\n",
    "import numpy as np\n",
    "\n",
    "print(cv2.__version__)\n",
    "print(dlib.__version__)"
   ]
  },
  {
   "cell_type": "markdown",
   "id": "eecf0624",
   "metadata": {},
   "source": [
    "# 1. 고양이 스티커 다운로드\n",
    "https://www.flaticon.com/free-icon/cat-whiskers_24674?term=cat%20nose&page=1&position=1"
   ]
  },
  {
   "cell_type": "markdown",
   "id": "3a67560a",
   "metadata": {},
   "source": [
    "# 2. 얼굴 검출 & 랜드마크 검출하기"
   ]
  },
  {
   "cell_type": "code",
   "execution_count": null,
   "id": "28878ede",
   "metadata": {},
   "outputs": [],
   "source": []
  },
  {
   "cell_type": "code",
   "execution_count": null,
   "id": "2378b1d9",
   "metadata": {},
   "outputs": [],
   "source": []
  },
  {
   "cell_type": "code",
   "execution_count": null,
   "id": "9ab9ad64",
   "metadata": {},
   "outputs": [],
   "source": []
  },
  {
   "cell_type": "code",
   "execution_count": null,
   "id": "c6bf9360",
   "metadata": {},
   "outputs": [],
   "source": []
  },
  {
   "cell_type": "code",
   "execution_count": null,
   "id": "8c371260",
   "metadata": {},
   "outputs": [],
   "source": []
  },
  {
   "cell_type": "markdown",
   "id": "6c6f7e29",
   "metadata": {},
   "source": [
    "# 3. 스티커 적용 위치 확인하기"
   ]
  },
  {
   "cell_type": "code",
   "execution_count": null,
   "id": "c81fd4e4",
   "metadata": {},
   "outputs": [],
   "source": []
  },
  {
   "cell_type": "code",
   "execution_count": null,
   "id": "0d6b2936",
   "metadata": {},
   "outputs": [],
   "source": []
  },
  {
   "cell_type": "code",
   "execution_count": null,
   "id": "ef6dce78",
   "metadata": {},
   "outputs": [],
   "source": []
  },
  {
   "cell_type": "code",
   "execution_count": null,
   "id": "cb43882e",
   "metadata": {},
   "outputs": [],
   "source": []
  },
  {
   "cell_type": "code",
   "execution_count": null,
   "id": "7f66db20",
   "metadata": {},
   "outputs": [],
   "source": []
  },
  {
   "cell_type": "code",
   "execution_count": null,
   "id": "3a6d55d6",
   "metadata": {},
   "outputs": [],
   "source": []
  },
  {
   "cell_type": "markdown",
   "id": "5b172d7d",
   "metadata": {},
   "source": [
    "# 4. 스티커 적용하기"
   ]
  },
  {
   "cell_type": "code",
   "execution_count": null,
   "id": "6e085d9f",
   "metadata": {},
   "outputs": [],
   "source": []
  },
  {
   "cell_type": "code",
   "execution_count": null,
   "id": "adb83438",
   "metadata": {},
   "outputs": [],
   "source": []
  },
  {
   "cell_type": "code",
   "execution_count": null,
   "id": "e77d3924",
   "metadata": {},
   "outputs": [],
   "source": []
  },
  {
   "cell_type": "code",
   "execution_count": null,
   "id": "e1b5383c",
   "metadata": {},
   "outputs": [],
   "source": []
  },
  {
   "cell_type": "code",
   "execution_count": null,
   "id": "adda569d",
   "metadata": {},
   "outputs": [],
   "source": []
  },
  {
   "cell_type": "code",
   "execution_count": null,
   "id": "e293b656",
   "metadata": {},
   "outputs": [],
   "source": []
  },
  {
   "cell_type": "markdown",
   "id": "3d94003c",
   "metadata": {},
   "source": [
    "# 5. 문제점 찾아보기"
   ]
  },
  {
   "cell_type": "code",
   "execution_count": null,
   "id": "52db50d2",
   "metadata": {},
   "outputs": [],
   "source": []
  },
  {
   "cell_type": "code",
   "execution_count": null,
   "id": "ef2d0246",
   "metadata": {},
   "outputs": [],
   "source": []
  },
  {
   "cell_type": "code",
   "execution_count": null,
   "id": "961e50d9",
   "metadata": {},
   "outputs": [],
   "source": []
  },
  {
   "cell_type": "code",
   "execution_count": null,
   "id": "525c7639",
   "metadata": {},
   "outputs": [],
   "source": []
  },
  {
   "cell_type": "markdown",
   "id": "e10439b3",
   "metadata": {},
   "source": [
    "# 6. 회고"
   ]
  },
  {
   "cell_type": "code",
   "execution_count": null,
   "id": "33675206",
   "metadata": {},
   "outputs": [],
   "source": []
  }
 ],
 "metadata": {
  "kernelspec": {
   "display_name": "Python 3 (ipykernel)",
   "language": "python",
   "name": "python3"
  },
  "language_info": {
   "codemirror_mode": {
    "name": "ipython",
    "version": 3
   },
   "file_extension": ".py",
   "mimetype": "text/x-python",
   "name": "python",
   "nbconvert_exporter": "python",
   "pygments_lexer": "ipython3",
   "version": "3.9.7"
  }
 },
 "nbformat": 4,
 "nbformat_minor": 5
}
