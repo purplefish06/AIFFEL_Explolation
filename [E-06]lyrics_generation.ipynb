{
 "cells": [
  {
   "cell_type": "markdown",
   "id": "6601d444",
   "metadata": {},
   "source": [
    "[E-06]lyrics_generation\n",
    "* 목적 : 시퀀스 데이터 대상으로 딥러닝 모델을 학습 하여 다음 시퀀스를 생성해보자. \n",
    "* 활용데이터 : 가사의 시퀀스 형태 데이터(8:2)\n",
    "* 과정 : 시퀀스 데이터의 정제 테크닉을 활용하여 토큰화, 특수 문자 제거등 전처리를 진행하고 RNN 계열 딥러닝 모델을 활용하여 다음 노래 가사의 텍스트를 생성한다.\n",
    "* 목표 : 텍스트 생성 모델의 10epoch 이내에 validation loss 2.2 이하/ 생성결과의 해석가능 여부\n",
    "\n",
    "---"
   ]
  },
  {
   "cell_type": "markdown",
   "id": "1f40c618",
   "metadata": {},
   "source": [
    "1. 데이터의 전처리 및 구성과정이 체계적으로 진행되었는가?\n",
    "    - 특수문자 제거, 토크나이저 생성, 패딩 처리의 작업들이 빠짐없이 진행되었는가?\n",
    "2. 가사 텍스트 생성 모델이 정상적으로 작동하는가?\n",
    "    - 텍스트 제너레이션 결과로 생성된 문장이 해석 가능한 문장인가?\n",
    "3. 텍스트 생성모델이 안정적으로 학습되었는가?\n",
    "    - 텍스트 생성모델의 validation loss가 2.2이하로 낮아졌는가?\n",
    "---"
   ]
  },
  {
   "cell_type": "markdown",
   "id": "8b0aa1af",
   "metadata": {},
   "source": [
    "# 0. 필요 module import"
   ]
  },
  {
   "cell_type": "code",
   "execution_count": 18,
   "id": "34b67fc0",
   "metadata": {},
   "outputs": [
    {
     "name": "stdout",
     "output_type": "stream",
     "text": [
      "2.6.0\n"
     ]
    }
   ],
   "source": [
    "import os\n",
    "import glob  #glob 모듈의 glob 함수는 사용자가 제시한 조건에 맞는 파일명을 리스트 형식으로 반환한다\n",
    "import tensorflow as tf \n",
    "import re\n",
    "\n",
    "print(tf.__version__)"
   ]
  },
  {
   "cell_type": "markdown",
   "id": "5169614c",
   "metadata": {},
   "source": [
    "# 1. 데이터 다운로드"
   ]
  },
  {
   "cell_type": "code",
   "execution_count": null,
   "id": "6a4dd4c7",
   "metadata": {},
   "outputs": [],
   "source": [
    "# !ln -s ~/data ~/aiffel/lyricist/data"
   ]
  },
  {
   "cell_type": "markdown",
   "id": "6d3ec58f",
   "metadata": {},
   "source": [
    "# 2. 데이터 읽어오기"
   ]
  },
  {
   "cell_type": "code",
   "execution_count": 2,
   "id": "3e17eabc",
   "metadata": {},
   "outputs": [
    {
     "name": "stdout",
     "output_type": "stream",
     "text": [
      "데이터 크기: 187088\n",
      "Examples:\n",
      " ['', '', '[Spoken Intro:]']\n"
     ]
    }
   ],
   "source": [
    "txt_file_path = os.getenv('HOME')+'/aiffel/lyricist/data/lyrics/*' \n",
    "\n",
    "txt_list = glob.glob(txt_file_path) \n",
    "\n",
    "raw_corpus = [] \n",
    "\n",
    "for txt_file in txt_list:\n",
    "    with open(txt_file, \"r\") as f:\n",
    "        raw = f.read().splitlines() \n",
    "        raw_corpus.extend(raw) \n",
    "\n",
    "print(\"데이터 크기:\", len(raw_corpus))\n",
    "print(\"Examples:\\n\", raw_corpus[:3])"
   ]
  },
  {
   "cell_type": "markdown",
   "id": "326d0550",
   "metadata": {},
   "source": [
    "# 3. 데이터 정제\n",
    "1. 모든 문자를 소문자로. 공백 제거 \n",
    "2. 특수문자 양쪽에 공백 추가\n",
    "3. 공백 패턴을 모두 하나의 공백으로 변환\n",
    "4. a-zA-Z.!,? 해당 문자 제외 문자는 공백으로 변환\n",
    "5. 문장 양끝 공백 제거\n",
    "6. 문장 시작과 끝 표시  \n",
    "7. 토큰화 : 최대 토큰갯수 15개(권장사항)"
   ]
  },
  {
   "cell_type": "code",
   "execution_count": 3,
   "id": "1038e94e",
   "metadata": {},
   "outputs": [],
   "source": [
    "def preprocess_sentence(sentence): \n",
    "    sentence = sentence.lower().strip() # 1 : 모든 문자의 소문자 처리와 공백제거\n",
    "    sentence = re.sub(r\"([?.!,¿])\", r\" \\1 \", sentence) # 2 : 특수문자 양쪽에 공백을 추가\n",
    "    sentence = re.sub(r'[\" \"]+', \" \", sentence) # 3 : 공백 패턴은 스페이스로 변환\n",
    "    sentence = re.sub(r\"[^a-zA-Z?.!,¿]+\", \" \", sentence) # 4 : 해당 문자를 제외한 문자는(공백포함) 스페이스로 변환\n",
    "    sentence = sentence.strip() # 5 : 문장 양끝 공백제거\n",
    "    sentence = '<start> ' + sentence + ' <end>' # 6 : 문장 앞뒤 표시\n",
    "    return sentence"
   ]
  },
  {
   "cell_type": "code",
   "execution_count": 4,
   "id": "492c6c85",
   "metadata": {},
   "outputs": [
    {
     "data": {
      "text/plain": [
       "['<start> spoken intro <end>',\n",
       " '<start> you ever want something <end>',\n",
       " '<start> that you know you shouldn t have <end>',\n",
       " '<start> the more you know you shouldn t have it , <end>',\n",
       " '<start> the more you want it <end>',\n",
       " '<start> and then one day you get it , <end>',\n",
       " '<start> it s so good too <end>',\n",
       " '<start> but it s just like my girl <end>',\n",
       " '<start> when she s around me <end>',\n",
       " '<start> i just feel so good , so good <end>']"
      ]
     },
     "execution_count": 4,
     "metadata": {},
     "output_type": "execute_result"
    }
   ],
   "source": [
    "corpus = []\n",
    "\n",
    "for sentence in raw_corpus:\n",
    "\n",
    "    if len(sentence) == 0: continue\n",
    "    if sentence[-1] == \":\": continue\n",
    "    \n",
    "    preprocessed_sentence = preprocess_sentence(sentence)\n",
    "    corpus.append(preprocessed_sentence)\n",
    "        \n",
    "corpus[:10]"
   ]
  },
  {
   "cell_type": "code",
   "execution_count": 5,
   "id": "a13cbb80",
   "metadata": {},
   "outputs": [
    {
     "name": "stdout",
     "output_type": "stream",
     "text": [
      "[[   2 2701 2584 ...    0    0    0]\n",
      " [   2    7  156 ...    0    0    0]\n",
      " [   2   17    7 ...    0    0    0]\n",
      " ...\n",
      " [   2  311    1 ...    0    0    0]\n",
      " [   2  735    5 ...    0    0    0]\n",
      " [   2  735    5 ...    0    0    0]] <keras_preprocessing.text.Tokenizer object at 0x7f6827e5d8b0>\n"
     ]
    }
   ],
   "source": [
    "def tokenize(corpus):\n",
    "    tokenizer = tf.keras.preprocessing.text.Tokenizer(\n",
    "        num_words=12000, # 전체 단어의 수 (12000: 권장)\n",
    "        filters=' ',\n",
    "        oov_token=\"<unk>\"\n",
    "    )\n",
    "    \n",
    "    tokenizer.fit_on_texts(corpus)\n",
    "    tensor = tokenizer.texts_to_sequences(corpus)   \n",
    "    \n",
    "    tensor = tf.keras.preprocessing.sequence.pad_sequences(tensor, padding='post',maxlen=20)  \n",
    "    \n",
    "    print(tensor,tokenizer)\n",
    "    return tensor, tokenizer\n",
    "\n",
    "tensor, tokenizer = tokenize(corpus)\n"
   ]
  },
  {
   "cell_type": "code",
   "execution_count": 6,
   "id": "c3b2cb75",
   "metadata": {},
   "outputs": [
    {
     "name": "stdout",
     "output_type": "stream",
     "text": [
      "1 : <unk>\n",
      "2 : <start>\n",
      "3 : <end>\n",
      "4 : ,\n",
      "5 : i\n",
      "6 : the\n",
      "7 : you\n",
      "8 : and\n",
      "9 : a\n",
      "10 : to\n"
     ]
    }
   ],
   "source": [
    "for idx in tokenizer.index_word:\n",
    "    print(idx, \":\", tokenizer.index_word[idx])\n",
    "\n",
    "    if idx >= 10: break"
   ]
  },
  {
   "cell_type": "code",
   "execution_count": 7,
   "id": "7ad36d07",
   "metadata": {},
   "outputs": [
    {
     "name": "stdout",
     "output_type": "stream",
     "text": [
      "src_input (175749, 19)\n",
      "[   2 2701 2584    3    0    0    0    0    0    0    0    0    0    0\n",
      "    0    0    0    0    0]\n",
      "tgt_input (175749, 19)\n",
      "[2701 2584    3    0    0    0    0    0    0    0    0    0    0    0\n",
      "    0    0    0    0    0]\n"
     ]
    }
   ],
   "source": [
    "src_input = tensor[:, :-1]  \n",
    "tgt_input = tensor[:, 1:]    \n",
    "\n",
    "print('src_input', src_input.shape)\n",
    "print(src_input[0])\n",
    "print('tgt_input' , tgt_input.shape)\n",
    "print(tgt_input[0])"
   ]
  },
  {
   "cell_type": "markdown",
   "id": "94d238c0",
   "metadata": {},
   "source": [
    "# 4. 평가 데이터셋 분리"
   ]
  },
  {
   "cell_type": "code",
   "execution_count": 8,
   "id": "b835568e",
   "metadata": {},
   "outputs": [],
   "source": [
    "from sklearn.model_selection import train_test_split\n",
    "\n",
    "enc_train, enc_val, dec_train, dec_val = train_test_split(src_input, \n",
    "                                                          tgt_input, \n",
    "                                                          test_size=0.2, \n",
    "                                                          shuffle=True)\n"
   ]
  },
  {
   "cell_type": "code",
   "execution_count": 9,
   "id": "0d549246",
   "metadata": {},
   "outputs": [
    {
     "data": {
      "text/plain": [
       "<BatchDataset shapes: ((256, 19), (256, 19)), types: (tf.int32, tf.int32)>"
      ]
     },
     "execution_count": 9,
     "metadata": {},
     "output_type": "execute_result"
    }
   ],
   "source": [
    "BUFFER_SIZE = len(src_input)\n",
    "BATCH_SIZE = 256\n",
    "steps_per_epoch = len(src_input) // BATCH_SIZE\n",
    "\n",
    "VOCAB_SIZE = tokenizer.num_words + 1   \n",
    "\n",
    "dataset = tf.data.Dataset.from_tensor_slices((src_input, tgt_input))\n",
    "dataset = dataset.shuffle(BUFFER_SIZE)\n",
    "dataset = dataset.batch(BATCH_SIZE, drop_remainder=True)\n",
    "dataset"
   ]
  },
  {
   "cell_type": "markdown",
   "id": "a8834b0f",
   "metadata": {},
   "source": [
    "# 5. 인공지능 만들기"
   ]
  },
  {
   "cell_type": "code",
   "execution_count": 10,
   "id": "37517c56",
   "metadata": {},
   "outputs": [],
   "source": [
    "class TextGenerator(tf.keras.Model):\n",
    "    def __init__(self, vocab_size, embedding_size, hidden_size):\n",
    "        super().__init__()\n",
    "        self.embedding = tf.keras.layers.Embedding(vocab_size, embedding_size) \n",
    "        self.rnn_1 = tf.keras.layers.LSTM(hidden_size, return_sequences=True)  \n",
    "        self.rnn_2 = tf.keras.layers.LSTM(hidden_size, return_sequences=True)\n",
    "        self.linear = tf.keras.layers.Dense(vocab_size)\n",
    "        \n",
    "    def call(self, x):\n",
    "        out = self.embedding(x)\n",
    "        out = self.rnn_1(out)\n",
    "        out = self.rnn_2(out)\n",
    "        out = self.linear(out)\n",
    "        \n",
    "        return out\n",
    "# embedding size 값이 커질수록 단어의 추상적인 특징들을 더 잡아낼 수 있지만\n",
    "# 그만큼 충분한 데이터가 없으면 안좋은 결과 값을 가져옵니다!   \n",
    "embedding_size = 256 # 워드 벡터의 차원수를 말하며 단어가 추상적으로 표현되는 크기\n",
    "hidden_size = 1024 # 모델에 얼마나 많은 일꾼을 둘 것인가? 정도로 이해하면 좋다.\n",
    "model = TextGenerator(tokenizer.num_words + 1, embedding_size , hidden_size) # tokenizer.num_words에 +1인 이유는 문장에 없는 pad가 사용되었기 때문이다.\n"
   ]
  },
  {
   "cell_type": "code",
   "execution_count": 11,
   "id": "8f0f10fe",
   "metadata": {},
   "outputs": [
    {
     "name": "stdout",
     "output_type": "stream",
     "text": [
      "Epoch 1/10\n",
      "550/550 - 137s - loss: 3.0349 - val_loss: 2.6907\n",
      "Epoch 2/10\n",
      "550/550 - 131s - loss: 2.5685 - val_loss: 2.4906\n",
      "Epoch 3/10\n",
      "550/550 - 131s - loss: 2.4091 - val_loss: 2.3788\n",
      "Epoch 4/10\n",
      "550/550 - 131s - loss: 2.2953 - val_loss: 2.2999\n",
      "Epoch 5/10\n",
      "550/550 - 131s - loss: 2.2011 - val_loss: 2.2395\n",
      "Epoch 6/10\n",
      "550/550 - 131s - loss: 2.1159 - val_loss: 2.1868\n",
      "Epoch 7/10\n",
      "550/550 - 131s - loss: 2.0355 - val_loss: 2.1405\n",
      "Epoch 8/10\n",
      "550/550 - 131s - loss: 1.9593 - val_loss: 2.1040\n",
      "Epoch 9/10\n",
      "550/550 - 131s - loss: 1.8880 - val_loss: 2.0730\n",
      "Epoch 10/10\n",
      "550/550 - 140s - loss: 1.8206 - val_loss: 2.0473\n"
     ]
    }
   ],
   "source": [
    "optimizer = tf.keras.optimizers.Adam() \n",
    "loss = tf.keras.losses.SparseCategoricalCrossentropy(from_logits=True, \n",
    "                                                     reduction='none') \n",
    "\n",
    "model.compile(loss=loss, optimizer=optimizer)     \n",
    "history = model.fit(enc_train, dec_train, epochs=10, batch_size=256, validation_data=(enc_val, dec_val), verbose=2)\n",
    "                    "
   ]
  },
  {
   "cell_type": "markdown",
   "id": "3100f05b",
   "metadata": {},
   "source": [
    "## 학습된 모델 결과 확인하기"
   ]
  },
  {
   "cell_type": "code",
   "execution_count": 12,
   "id": "407bfa8e",
   "metadata": {},
   "outputs": [],
   "source": [
    "def generate_text(model, tokenizer, init_sentence=\"<start>\", max_len=20): \n",
    "\n",
    "    test_input = tokenizer.texts_to_sequences([init_sentence])\n",
    "    test_tensor = tf.convert_to_tensor(test_input, dtype=tf.int64)\n",
    "    end_token = tokenizer.word_index[\"<end>\"]\n",
    "\n",
    "    while True:\n",
    "        predict = model(test_tensor) \n",
    "        predict_word = tf.argmax(tf.nn.softmax(predict, axis=-1), axis=-1)[:, -1] \n",
    "        test_tensor = tf.concat([test_tensor, tf.expand_dims(predict_word, axis=0)], axis=-1)\n",
    "        if predict_word.numpy()[0] == end_token: break\n",
    "        if test_tensor.shape[1] >= max_len: break\n",
    "\n",
    "    generated = \"\"\n",
    "\n",
    "    for word_index in test_tensor[0].numpy():\n",
    "        generated += tokenizer.index_word[word_index] + \" \"\n",
    "\n",
    "    return generated "
   ]
  },
  {
   "cell_type": "code",
   "execution_count": 14,
   "id": "1e3a99fc",
   "metadata": {},
   "outputs": [
    {
     "data": {
      "text/plain": [
       "'<start> i love you , i love you <end> '"
      ]
     },
     "execution_count": 14,
     "metadata": {},
     "output_type": "execute_result"
    }
   ],
   "source": [
    "generate_text(model, tokenizer, init_sentence=\"<start> i love\", max_len=20)\n"
   ]
  },
  {
   "cell_type": "code",
   "execution_count": 15,
   "id": "565bb633",
   "metadata": {},
   "outputs": [
    {
     "data": {
      "text/plain": [
       "'<start> may i get witcha can i get witcha <end> '"
      ]
     },
     "execution_count": 15,
     "metadata": {},
     "output_type": "execute_result"
    }
   ],
   "source": [
    "generate_text(model, tokenizer, init_sentence=\"<start> May I\", max_len=20)"
   ]
  },
  {
   "cell_type": "code",
   "execution_count": 16,
   "id": "dd578eb9",
   "metadata": {},
   "outputs": [
    {
     "data": {
      "text/plain": [
       "'<start> i need a little guidance <end> '"
      ]
     },
     "execution_count": 16,
     "metadata": {},
     "output_type": "execute_result"
    }
   ],
   "source": [
    "generate_text(model, tokenizer, init_sentence=\"<start> i need\", max_len=20)"
   ]
  },
  {
   "cell_type": "code",
   "execution_count": 17,
   "id": "74e964d1",
   "metadata": {},
   "outputs": [
    {
     "data": {
      "text/plain": [
       "'<start> what should i do <end> '"
      ]
     },
     "execution_count": 17,
     "metadata": {},
     "output_type": "execute_result"
    }
   ],
   "source": [
    "generate_text(model, tokenizer, init_sentence=\"<start> what should\", max_len=20)"
   ]
  },
  {
   "cell_type": "markdown",
   "id": "677e48b8",
   "metadata": {},
   "source": [
    "# 6. 회고\n",
    "\n",
    "- 예제에서 사용했던 모델의 layer 는 그대로 사용하였다. 초기 모델의 성능이 꽤나 괜찮았기 때문이다. 목표로 했던 10epoch 이내 val_loss 2.2 이하(2.04)가 달성되었고, 생성결과의 의미를 이해할 수 있었다. \n",
    "- 파리미터 조정 외에 모델의 성능을 올리기 위한 설계과정에서 embedding size 나 hidden size 가 변화함에 따라 결과가 어떨지 예상할 수 있는 insight 를 갖는 것이 중요할 것 같다. \n",
    "- 데이터 처리 과정에서 토큰화 과정을 세부적으로 더 깊게 봐야겠다는 생각이 들었다.\n",
    "- 텍스트생성 결과를 여러가지로 테스트 해보았는데, 특수문자로 인한 문장겹침 현상이 보였지만, 의미전달이 가능한 문장이 생성되었다. \n",
    "- 각 벡터들의 시각화를 해보고 싶었는데 진행하지 못했다.(얼마나 복잡하게 그려질지 궁금했다)-> 경험자에 따르면 크게 의미없었다고 한다. 이유는 근접 벡터가 상호 관련성이 없기 떄문에 시각화를 통한 인사이트를 얻을 수 없기 때문이라고 한다.\n"
   ]
  },
  {
   "cell_type": "code",
   "execution_count": null,
   "id": "c3a3d932",
   "metadata": {},
   "outputs": [],
   "source": [
    " "
   ]
  }
 ],
 "metadata": {
  "kernelspec": {
   "display_name": "Python 3 (ipykernel)",
   "language": "python",
   "name": "python3"
  },
  "language_info": {
   "codemirror_mode": {
    "name": "ipython",
    "version": 3
   },
   "file_extension": ".py",
   "mimetype": "text/x-python",
   "name": "python",
   "nbconvert_exporter": "python",
   "pygments_lexer": "ipython3",
   "version": "3.9.7"
  }
 },
 "nbformat": 4,
 "nbformat_minor": 5
}
